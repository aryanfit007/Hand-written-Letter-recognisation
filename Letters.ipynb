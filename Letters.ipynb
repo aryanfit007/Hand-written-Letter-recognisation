{
  "cells": [
    {
      "cell_type": "code",
      "source": [
        "from google.colab import drive\n",
        "drive.mount('/content/drive')"
      ],
      "metadata": {
        "colab": {
          "base_uri": "https://localhost:8080/"
        },
        "id": "cTnLoW-D_FGF",
        "outputId": "2d0a0fb6-1515-4742-fb3f-bf3e510233f6"
      },
      "execution_count": 1,
      "outputs": [
        {
          "output_type": "stream",
          "name": "stdout",
          "text": [
            "Mounted at /content/drive\n"
          ]
        }
      ]
    },
    {
      "cell_type": "code",
      "execution_count": 2,
      "metadata": {
        "id": "QzFeQvd6DEXN"
      },
      "outputs": [],
      "source": [
        "import os\n",
        "import cv2\n",
        "import torch\n",
        "import numpy as np\n",
        "import pandas as pd\n",
        "import seaborn as sns\n",
        "import torch.nn as  nn\n",
        "import matplotlib.pyplot as plt\n",
        "import torchvision\n",
        "from torch.autograd import Variable\n",
        "from torch.utils.data import DataLoader\n",
        "import torchvision.transforms as transforms\n",
        "from torch.utils.data import random_split\n",
        "from torchvision.utils import make_grid\n",
        "from sklearn.preprocessing import StandardScaler\n",
        "from sklearn.metrics import classification_report\n",
        "from sklearn.metrics import confusion_matrix\n",
        "from sklearn.model_selection import train_test_split\n",
        "from google.colab.patches import cv2_imshow\n",
        "\n",
        "from torch.utils.data import Dataset\n",
        "from torchvision.datasets import EMNIST\n",
        "from torchvision.utils import save_image\n",
        "import albumentations\n",
        "import albumentations.pytorch\n",
        "from PIL import Image\n",
        "import time\n",
        "\n"
      ]
    },
    {
      "cell_type": "code",
      "execution_count": 3,
      "metadata": {
        "id": "PdscgZgLBwGx"
      },
      "outputs": [],
      "source": [
        "# train_transforms = transforms.Compose([\n",
        "#       transforms.Resize((28,28)),\n",
        "#       transforms.ToTensor(),\n",
        "#       transforms.Lambda(lambda x: torchvision.transforms.functional.invert(x)),\n",
        "#       transforms.Normalize((0, 0, 0), (1, 1, 1)),\n",
        "#       transforms.Grayscale(num_output_channels=1)\n",
        "# ])\n",
        "\n",
        "# test_transforms = transforms.Compose([\n",
        "#       transforms.Resize((28,28)),\n",
        "#       transforms.RandomRotation(degrees=45),\n",
        "#       transforms.Resize((28,28)),\n",
        "#       transforms.RandomRotation(degrees = 45),\n",
        "#       transforms.RandomHorizontalFlip(p = 0.3),\n",
        "#       transforms.RandomVerticalFlip(p = 0.4),\n",
        "#       transforms.ToTensor(),\n",
        "#       transforms.Lambda(lambda x: torchvision.transforms.functional.invert(x)),\n",
        "#       transforms.Normalize((0, 0, 0), (1, 1, 1)),\n",
        "#       transforms.Grayscale(num_output_channels=1)\n",
        "      \n",
        "# ])"
      ]
    },
    {
      "cell_type": "code",
      "execution_count": 4,
      "metadata": {
        "id": "vQHkWGRrZNeR",
        "colab": {
          "base_uri": "https://localhost:8080/",
          "height": 83,
          "referenced_widgets": [
            "4f0fbe5648d44578b0d10d1127f7e594",
            "620f90fa9e3845c1ac7acb99eba93ec3",
            "ff53a2a40bfb4695ba778c38924d5bbc",
            "d60d16bc0e7e46d7a3d644bd5e147af2",
            "1ba26f30eaed49088e17a1232d8c5fe0",
            "1f68d16194a54f85900d014bf3e694bf",
            "e18f4e83c2784f1f8712f5cc0e502b73",
            "e195ada2314f47d4873a5f4cc23770bd",
            "2a686746871f46b1a49aac4081438038",
            "f882504cbd2c454994e968a62cbd157f",
            "97b70d5602124196990dbd2c85613ac5"
          ]
        },
        "outputId": "47d16b44-3ac7-4cbc-faed-577a6ed3abad"
      },
      "outputs": [
        {
          "output_type": "stream",
          "name": "stdout",
          "text": [
            "Downloading https://www.itl.nist.gov/iaui/vip/cs_links/EMNIST/gzip.zip to data/EMNIST/raw/gzip.zip\n"
          ]
        },
        {
          "output_type": "display_data",
          "data": {
            "text/plain": [
              "  0%|          | 0/561753746 [00:00<?, ?it/s]"
            ],
            "application/vnd.jupyter.widget-view+json": {
              "version_major": 2,
              "version_minor": 0,
              "model_id": "4f0fbe5648d44578b0d10d1127f7e594"
            }
          },
          "metadata": {}
        },
        {
          "output_type": "stream",
          "name": "stdout",
          "text": [
            "Extracting data/EMNIST/raw/gzip.zip to data/EMNIST/raw\n"
          ]
        }
      ],
      "source": [
        "train_dataset = EMNIST(root=\"data/\", split=\"letters\", download=True, train=True, \n",
        "                transform=transforms.Compose([\n",
        "                    lambda img: transforms.functional.rotate(img, -90),\n",
        "                    lambda img: transforms.functional.hflip(img),\n",
        "                    transforms.ToTensor()\n",
        "                ]))\n",
        "                \n",
        "test_dataset = EMNIST(root=\"data/\", split=\"letters\", download=True, train=False, \n",
        "                transform=transforms.Compose([\n",
        "                                           \n",
        "                    lambda img: transforms.functional.rotate(img, -90),\n",
        "                    lambda img: transforms.functional.hflip(img),\n",
        "                    transforms.ToTensor()\n",
        "                ]))"
      ]
    },
    {
      "cell_type": "code",
      "execution_count": 5,
      "metadata": {
        "id": "GPMt86SyES4p"
      },
      "outputs": [],
      "source": [
        "# train_dataset_emojis = torchvision.datasets.ImageFolder(root = train_dataset_path_emojis ,transform = train_transforms)\n",
        "# test_dataset_emojis = torchvision.datasets.ImageFolder(root = test_dataset_path_emojis,transform =test_transforms)\n"
      ]
    },
    {
      "cell_type": "code",
      "execution_count": 6,
      "metadata": {
        "colab": {
          "base_uri": "https://localhost:8080/"
        },
        "id": "mTFHWZBOeWO8",
        "outputId": "a8875936-2e4b-468e-f035-3b3889813137"
      },
      "outputs": [
        {
          "output_type": "stream",
          "name": "stdout",
          "text": [
            "Dataset EMNIST\n",
            "    Number of datapoints: 124800\n",
            "    Root location: data/\n",
            "    Split: Train\n",
            "    StandardTransform\n",
            "Transform: Compose(\n",
            "               <function <lambda> at 0x7ff82a360cb0>\n",
            "               <function <lambda> at 0x7ff82a360ef0>\n",
            "               ToTensor()\n",
            "           )\n"
          ]
        }
      ],
      "source": [
        "# print(train_dataset_emojis)\n",
        "print(train_dataset)\n"
      ]
    },
    {
      "cell_type": "code",
      "execution_count": 7,
      "metadata": {
        "colab": {
          "base_uri": "https://localhost:8080/"
        },
        "id": "sPbBSw8gbm8M",
        "outputId": "6e7c6502-74a7-4876-bbf7-4f676ba99f6b"
      },
      "outputs": [
        {
          "output_type": "stream",
          "name": "stdout",
          "text": [
            "Total No of Images in EMNIST dataset: 145600\n",
            "No of images in Training dataset:     124800\n",
            "No of images in Testing dataset:      20800\n",
            "No of classes:  27\n",
            "List of all classes\n",
            "['N/A', 'a', 'b', 'c', 'd', 'e', 'f', 'g', 'h', 'i', 'j', 'k', 'l', 'm', 'n', 'o', 'p', 'q', 'r', 's', 't', 'u', 'v', 'w', 'x', 'y', 'z']\n"
          ]
        }
      ],
      "source": [
        "print(\"Total No of Images in EMNIST dataset:\", len(train_dataset) + len(test_dataset))\n",
        "print(\"No of images in Training dataset:    \",len(train_dataset))\n",
        "print(\"No of images in Testing dataset:     \",len(test_dataset))\n",
        "l = train_dataset.classes\n",
        "l.sort()\n",
        "print(\"No of classes: \",len(l))\n",
        "print(\"List of all classes\")\n",
        "print(l)\n",
        "# classes = train_dataset_emojis.classes\n",
        "# print(classes)"
      ]
    },
    {
      "cell_type": "code",
      "execution_count": 8,
      "metadata": {
        "id": "LZv2ov6EcJP0"
      },
      "outputs": [],
      "source": [
        "# This helper funcation convert the output index [0-61] into character [0-9],[A-Z],[a-z]\n",
        "\n",
        "def to_char(num):\n",
        "    if num<10:\n",
        "        return str(num)\n",
        "    elif num < 36:\n",
        "        return chr(num+55)\n",
        "    else:\n",
        "        return chr(num+61)\n",
        "\n",
        "\n",
        "# This is reverse of above function. Convert character [0-9],[A-Z],[a-z] into index [0-61]\n",
        "def to_index(char):\n",
        "    if ord(char)<59:\n",
        "        return ord(char)-48\n",
        "    elif ord(char)<95:\n",
        "        return ord(char)-55\n",
        "    else:\n",
        "        return ord(char)-61\n",
        "\n",
        "\n",
        "def show_transformed_images(dataset):\n",
        "  loader = torch.utils.data.DataLoader(dataset,batch_size = 7 , shuffle = True)\n",
        "  batch  = next(iter(loader))\n",
        "  images, labels =batch\n",
        "\n",
        "  grid = torchvision.utils.make_grid(images,nrow = 1)\n",
        "  plt.figure(figsize = (11,11) )\n",
        "  plt.imshow(np.transpose(grid,(1,2,0)))\n",
        "  print('labels: ',labels+1)"
      ]
    },
    {
      "cell_type": "code",
      "execution_count": 9,
      "metadata": {
        "id": "SI6RQOmyFvZP"
      },
      "outputs": [],
      "source": [
        "# train_dataset_emojis = torchvision.datasets.ImageFolder(root = train_dataset_path_emojis ,transform = train_transforms)\n",
        "\n",
        "# show_transformed_images(train_dataset_emojis)"
      ]
    },
    {
      "cell_type": "code",
      "execution_count": 10,
      "metadata": {
        "colab": {
          "base_uri": "https://localhost:8080/",
          "height": 438
        },
        "id": "BReUqQ5ecKOw",
        "outputId": "fc1a831e-8144-40e3-e345-2552c38b9a56"
      },
      "outputs": [
        {
          "output_type": "stream",
          "name": "stdout",
          "text": [
            "labels:  tensor([17, 18, 11, 19, 24, 26, 20, 26,  2, 20, 11, 17, 19,  9, 11, 15, 19,  9,\n",
            "        13, 15, 26, 20,  2, 15,  2,  2, 13, 25])\n"
          ]
        },
        {
          "output_type": "display_data",
          "data": {
            "text/plain": [
              "<Figure size 792x792 with 1 Axes>"
            ],
            "image/png": "[encoded data removed]"
          },
          "metadata": {
            "needs_background": "light"
          }
        }
      ],
      "source": [
        "def show_example(data):\n",
        "    loader = torch.utils.data.DataLoader(data,batch_size = 28 , shuffle = True)\n",
        "    batch  = next(iter(loader))\n",
        "    images, labels =batch\n",
        "\n",
        "    grid = torchvision.utils.make_grid(images,nrow = 7)\n",
        "    plt.figure(figsize = (11,11) )\n",
        "    plt.imshow(np.transpose(grid,(1,2,0)))\n",
        "    print('labels: ',labels)\n",
        "show_example(train_dataset)"
      ]
    },
    {
      "cell_type": "code",
      "execution_count": 11,
      "metadata": {
        "id": "zfADcwg6oNN3"
      },
      "outputs": [],
      "source": [
        "batch_size = 10\n",
        "batch_size1 = 7 \n",
        "# # train_loader1 = torch.utils.data.DataLoader(train_dataset_emojis, batch_size=batch_size1,\n",
        "#                                           shuffle=True)\n",
        "# test_loader1 = torch.utils.data.DataLoader(test_dataset_emojis, batch_size=batch_size1,\n",
        "#                                           shuffle=False)\n",
        "\n",
        "\n",
        "# classes = ('1','2','3','4','5','6','7')"
      ]
    },
    {
      "cell_type": "code",
      "execution_count": 12,
      "metadata": {
        "id": "nkHHYtxpkESS"
      },
      "outputs": [],
      "source": [
        "train_loader = torch.utils.data.DataLoader(train_dataset, batch_size=batch_size,\n",
        "                                          shuffle=True)\n",
        "test_loader = torch.utils.data.DataLoader(test_dataset, batch_size=batch_size,\n",
        "                                          shuffle=False)"
      ]
    },
    {
      "cell_type": "code",
      "execution_count": 13,
      "metadata": {
        "colab": {
          "base_uri": "https://localhost:8080/"
        },
        "id": "1fheTNpXpLiP",
        "outputId": "af5bb828-ffdc-45b4-d9c3-0a899bbe98c7"
      },
      "outputs": [
        {
          "output_type": "stream",
          "name": "stdout",
          "text": [
            "cuda:0\n"
          ]
        }
      ],
      "source": [
        "# set the device on which the model will be trained\n",
        "device =  torch.device(\"cuda:0\" if torch.cuda.is_available() else \"cpu\") \n",
        "#### end code here ####\n",
        "print(device)"
      ]
    },
    {
      "cell_type": "code",
      "source": [
        ""
      ],
      "metadata": {
        "id": "ZSDw-HQ5bFRG"
      },
      "execution_count": 13,
      "outputs": []
    },
    {
      "cell_type": "code",
      "execution_count": 127,
      "metadata": {
        "id": "h8dNxB82_xJ4"
      },
      "outputs": [],
      "source": [
        "#letters\n",
        "\n",
        "class CNNModel(nn.Module):\n",
        "      def __init__(self):\n",
        "          super(CNNModel,self).__init__()\n",
        "\n",
        "          #Convolution :\n",
        "          self.cnn1 = nn.Conv2d(in_channels = 1 ,out_channels = 16 , kernel_size = 3, stride = 1 , padding = 0)\n",
        "          self.relu1 = nn.ReLU()\n",
        "          self.maxpool1 = nn.MaxPool2d(kernel_size = (2,2))\n",
        "\n",
        "          #Convolution 2\n",
        "          self.cnn2 = nn.Conv2d(in_channels = 16 ,out_channels = 32 , kernel_size = 3, stride = 1 , padding = 0)\n",
        "          self.relu2 = nn.ReLU()\n",
        "          self.maxpool2 = nn.MaxPool2d(kernel_size =2 )\n",
        "          #Linear\n",
        "          self.fc1 = nn.Linear(in_features=800, out_features=500)\n",
        "          \n",
        "          self.relu3 = nn.ReLU()\n",
        "\n",
        "          self.fc2 = nn.Linear(500,27) \n",
        "          # self.soft = nn.LogSoftmax(dim=1)     \n",
        "          \n",
        "      def forward(self,x):\n",
        "          out = self.cnn1(x)\n",
        "          out = self.relu1(out)\n",
        "          out = self.maxpool1(out)\n",
        "\n",
        "          out = self.cnn2(out)\n",
        "          out = self.relu2(out)\n",
        "          out = self.maxpool2(out)\n",
        "\n",
        "          out = out.view(out.size(0),-1)\n",
        "\n",
        "          out = self.fc1(out)\n",
        "          out = self.relu3(out)\n",
        "\n",
        "          out = self.fc2(out)\n",
        "          # out = self.soft(out)\n",
        "\n",
        "          return out\n",
        "          \n"
      ]
    },
    {
      "cell_type": "code",
      "execution_count": 128,
      "metadata": {
        "colab": {
          "base_uri": "https://localhost:8080/"
        },
        "id": "WqDFAHQ0Cxdz",
        "outputId": "d747962d-553b-47d1-bf7d-ea33320c9f8a"
      },
      "outputs": [
        {
          "output_type": "execute_result",
          "data": {
            "text/plain": [
              "CNNModel(\n",
              "  (cnn1): Conv2d(1, 16, kernel_size=(3, 3), stride=(1, 1))\n",
              "  (relu1): ReLU()\n",
              "  (maxpool1): MaxPool2d(kernel_size=(2, 2), stride=(2, 2), padding=0, dilation=1, ceil_mode=False)\n",
              "  (cnn2): Conv2d(16, 32, kernel_size=(3, 3), stride=(1, 1))\n",
              "  (relu2): ReLU()\n",
              "  (maxpool2): MaxPool2d(kernel_size=2, stride=2, padding=0, dilation=1, ceil_mode=False)\n",
              "  (fc1): Linear(in_features=800, out_features=500, bias=True)\n",
              "  (relu3): ReLU()\n",
              "  (fc2): Linear(in_features=500, out_features=27, bias=True)\n",
              "  (soft): LogSoftmax(dim=1)\n",
              ")"
            ]
          },
          "metadata": {},
          "execution_count": 128
        }
      ],
      "source": [
        "model = CNNModel().to(device)\n",
        "model\n"
      ]
    },
    {
      "cell_type": "code",
      "execution_count": 129,
      "metadata": {
        "colab": {
          "base_uri": "https://localhost:8080/"
        },
        "id": "OigYPa5gEs7E",
        "outputId": "b1b49141-1f6d-40f1-b8b7-6692c9f77362"
      },
      "outputs": [
        {
          "output_type": "stream",
          "name": "stdout",
          "text": [
            "number of parameters/weights  418827\n"
          ]
        }
      ],
      "source": [
        "pytorch_total_params = sum(p.numel() for p in model.parameters() if p.requires_grad)\n",
        "print(\"number of parameters/weights \", pytorch_total_params)"
      ]
    },
    {
      "cell_type": "code",
      "execution_count": 130,
      "metadata": {
        "id": "PaMadAENEzRE"
      },
      "outputs": [],
      "source": [
        "# Optimizer\n",
        "#### start code here ####\n",
        "learning_rate = 0.01\n",
        "optimizer = torch.optim.SGD(model.parameters(), lr=learning_rate)\n",
        "#### end code here ####"
      ]
    },
    {
      "cell_type": "code",
      "execution_count": 131,
      "metadata": {
        "id": "9mZmw_1vVQTn"
      },
      "outputs": [],
      "source": [
        "#emojis\n",
        "\n",
        "# class CNNModel1(nn.Module):\n",
        "#       def __init__(self):\n",
        "#           super(CNNModel1,self).__init__()\n",
        "\n",
        "#           #Convolution :\n",
        "#           self.cnn1 = nn.Conv2d(in_channels = 1 ,out_channels = 16 , kernel_size = 3, stride = 1 , padding = 0)\n",
        "#           self.relu1 = nn.ReLU()\n",
        "#           self.maxpool1 = nn.MaxPool2d(kernel_size = (2,2))\n",
        "\n",
        "#           #Convolution 2\n",
        "#           self.cnn2 = nn.Conv2d(in_channels = 16 ,out_channels = 32 , kernel_size = 3, stride = 1 , padding = 0)\n",
        "#           self.relu2 = nn.ReLU()\n",
        "#           self.maxpool2 = nn.MaxPool2d(kernel_size =2 )\n",
        "\n",
        "#           self.fc1 = nn.Linear(in_features=800, out_features=500)\n",
        "#           self.relu3 = nn.ReLU()\n",
        "\n",
        "#           self.fc2 = nn.Linear(500,7)          \n",
        "          \n",
        "#       def forward(self,x):\n",
        "#           out = self.cnn1(x)\n",
        "#           out = self.relu1(out)\n",
        "#           out = self.maxpool1(out)\n",
        "\n",
        "#           out = self.cnn2(out)\n",
        "#           out = self.relu2(out)\n",
        "#           out = self.maxpool2(out)\n",
        "\n",
        "#           out = out.view(out.size(0),-1)\n",
        "\n",
        "#           out = self.fc1(out)\n",
        "#           out = self.relu3(out)\n",
        "\n",
        "#           out = self.fc2(out)\n",
        "\n",
        "#           return out\n",
        "          \n"
      ]
    },
    {
      "cell_type": "code",
      "execution_count": 132,
      "metadata": {
        "id": "E2Do2jHRVQ4c"
      },
      "outputs": [],
      "source": [
        "# model1 = CNNModel1().to(device)\n",
        "# model1"
      ]
    },
    {
      "cell_type": "code",
      "execution_count": 133,
      "metadata": {
        "id": "y6O01d4AWJ7j"
      },
      "outputs": [],
      "source": [
        "# pytorch_total_params1 = sum(p.numel() for p in model1.parameters() if p.requires_grad)\n",
        "# print(\"number of parameters/weights \", pytorch_total_params1)"
      ]
    },
    {
      "cell_type": "code",
      "execution_count": 134,
      "metadata": {
        "id": "6bJfZqqMWKF_"
      },
      "outputs": [],
      "source": [
        "# learning_rate = 0.01\n",
        "# optimizer1 = torch.optim.SGD(model1.parameters(), lr=learning_rate)\n",
        "#### end code here ####"
      ]
    },
    {
      "cell_type": "code",
      "execution_count": 137,
      "metadata": {
        "id": "HkV9DHFHEwGY"
      },
      "outputs": [],
      "source": [
        "# Cross Entropy Loss \n",
        "#### start code here ####\n",
        "error = nn.CrossEntropyLoss() #loss\n",
        "#### end code here ####"
      ]
    },
    {
      "cell_type": "code",
      "execution_count": 138,
      "metadata": {
        "colab": {
          "base_uri": "https://localhost:8080/"
        },
        "id": "piWqBxPNGpFW",
        "outputId": "1c3fe000-4bb5-45ce-90ee-e251b620aeca"
      },
      "outputs": [
        {
          "output_type": "stream",
          "name": "stdout",
          "text": [
            "Epoch [1/10], Step [1/12480], Loss: 3.2819\n",
            "Epoch [1/10], Step [10001/12480], Loss: 1.2490\n",
            "Epoch [2/10], Step [1/12480], Loss: 0.2353\n",
            "Epoch [2/10], Step [10001/12480], Loss: 0.6816\n",
            "Epoch [3/10], Step [1/12480], Loss: 0.1933\n",
            "Epoch [3/10], Step [10001/12480], Loss: 0.1135\n",
            "Epoch [4/10], Step [1/12480], Loss: 0.0323\n",
            "Epoch [4/10], Step [10001/12480], Loss: 0.0415\n",
            "Epoch [5/10], Step [1/12480], Loss: 0.0285\n",
            "Epoch [5/10], Step [10001/12480], Loss: 0.0119\n",
            "Epoch [6/10], Step [1/12480], Loss: 0.0644\n",
            "Epoch [6/10], Step [10001/12480], Loss: 0.0102\n",
            "Epoch [7/10], Step [1/12480], Loss: 0.2536\n",
            "Epoch [7/10], Step [10001/12480], Loss: 0.0016\n",
            "Epoch [8/10], Step [1/12480], Loss: 0.1785\n",
            "Epoch [8/10], Step [10001/12480], Loss: 0.0482\n",
            "Epoch [9/10], Step [1/12480], Loss: 0.1077\n",
            "Epoch [9/10], Step [10001/12480], Loss: 0.0399\n",
            "Epoch [10/10], Step [1/12480], Loss: 0.0043\n",
            "Epoch [10/10], Step [10001/12480], Loss: 0.0164\n",
            "Finished Training\n"
          ]
        }
      ],
      "source": [
        "#for letters\n",
        "\n",
        "num_epochs = 10\n",
        "\n",
        "n_total_steps = len(train_loader)\n",
        "for epoch in range(num_epochs):\n",
        "  \n",
        "    for i, (images, labels) in enumerate(train_loader):\n",
        "        \n",
        "        images = images.to(device)\n",
        "        labels = labels.to(device)\n",
        "\n",
        "        # Forward pass\n",
        "        outputs = model(images)\n",
        "        loss = error(outputs, labels)\n",
        "\n",
        "        # Backward and optimize\n",
        "        optimizer.zero_grad()\n",
        "        loss.backward()\n",
        "        optimizer.step()\n",
        "\n",
        "        if (i) % 10000 == 0:\n",
        "            print (f'Epoch [{epoch+1}/{num_epochs}], Step [{i+1}/{n_total_steps}], Loss: {loss.item():.4f}')\n",
        "\n",
        "print('Finished Training')"
      ]
    },
    {
      "cell_type": "code",
      "execution_count": 29,
      "metadata": {
        "id": "FOOFXNW9d8V_"
      },
      "outputs": [],
      "source": [
        "PATH = '/content/drive/MyDrive/MOSAIC_PS1/letters.h5'\n",
        "torch.save(model.state_dict(), PATH)"
      ]
    },
    {
      "cell_type": "code",
      "execution_count": 140,
      "metadata": {
        "colab": {
          "base_uri": "https://localhost:8080/"
        },
        "id": "Ki3V0E9kUFFY",
        "outputId": "7db15cdd-f617-41fb-bebb-73b320ccb4df"
      },
      "outputs": [
        {
          "output_type": "stream",
          "name": "stdout",
          "text": [
            "Accuracy of the letters 93.10576923076923 %\n",
            "Accuracy of N/A: 0 %\n",
            "Accuracy of a: 90.375 %\n",
            "Accuracy of b: 96.125 %\n",
            "Accuracy of c: 95.125 %\n",
            "Accuracy of d: 93.0 %\n",
            "Accuracy of e: 97.125 %\n",
            "Accuracy of f: 96.5 %\n",
            "Accuracy of g: 72.625 %\n",
            "Accuracy of h: 93.875 %\n",
            "Accuracy of i: 75.375 %\n",
            "Accuracy of j: 95.125 %\n",
            "Accuracy of k: 96.5 %\n",
            "Accuracy of l: 72.625 %\n",
            "Accuracy of m: 98.625 %\n",
            "Accuracy of n: 96.375 %\n",
            "Accuracy of o: 98.625 %\n",
            "Accuracy of p: 98.0 %\n",
            "Accuracy of q: 92.875 %\n",
            "Accuracy of r: 95.25 %\n",
            "Accuracy of s: 97.5 %\n",
            "Accuracy of t: 96.125 %\n",
            "Accuracy of u: 95.0 %\n",
            "Accuracy of v: 92.5 %\n",
            "Accuracy of w: 97.375 %\n",
            "Accuracy of x: 95.375 %\n",
            "Accuracy of y: 95.25 %\n",
            "Accuracy of z: 97.5 %\n"
          ]
        }
      ],
      "source": [
        "#for letters\n",
        "with torch.no_grad():\n",
        "    n_correct = 0\n",
        "    n_samples = 0\n",
        "    n_class_correct = [0 for i in range(27)]\n",
        "    n_class_samples = [0 for i in range(27)]\n",
        "    for images, labels in test_loader:\n",
        "        images = images.to(device)\n",
        "        labels = labels.to(device)\n",
        "        outputs = model(images)\n",
        "        _, predicted = torch.max(outputs, 1)\n",
        "        # print(labels)\n",
        "        # print('\\n')\n",
        "        # print(predicted)\n",
        "        # print(predicted.sum())\n",
        "        # print(predicted.sum().item())\n",
        "        n_samples += labels.size(0)\n",
        "        n_correct += (predicted == labels).sum().item()\n",
        "\n",
        "        for i in range(len(labels)):\n",
        "            label = labels[i]\n",
        "            pred = predicted[i]\n",
        "            if (label == pred):\n",
        "                n_class_correct[label] += 1\n",
        "            n_class_samples[label] += 1\n",
        "\n",
        "    acc = 100.0 * n_correct / n_samples\n",
        "    print(f'Accuracy of the letters {acc} %')\n",
        "\n",
        "    for i in range(27):\n",
        "        acc=0\n",
        "        if(n_class_samples[i] != 0): acc = 100.0 * n_class_correct[i] / n_class_samples[i]\n",
        "        print(f'Accuracy of {l[i]}: {acc} %')"
      ]
    },
    {
      "cell_type": "code",
      "execution_count": 159,
      "metadata": {
        "id": "kQpFYrES-71u"
      },
      "outputs": [],
      "source": [
        "def segmentCaptcha(img):\n",
        "  img = cv2.resize(img, (800,300), interpolation = cv2.INTER_AREA)\n",
        "  img_gray = cv2.cvtColor(img, cv2.COLOR_BGR2GRAY)\n",
        "  _, th1 = cv2.threshold(img_gray,190, 255, cv2.THRESH_BINARY_INV)\n",
        "  kernel = np.ones((5,5), dtype = np.uint8)\n",
        "  img_dil = cv2.dilate(th1, kernel, iterations=2)\n",
        "\n",
        "  contours, _ = cv2.findContours(img_dil, cv2.RETR_EXTERNAL, cv2.CHAIN_APPROX_NONE)\n",
        "  \n",
        "  sorted_ctrs = sorted(contours, key=lambda ctr: cv2.boundingRect(ctr)[0])\n",
        "  img_crops = []\n",
        "  k=0\n",
        "  for i, ctr in enumerate(sorted_ctrs):\n",
        "      x, y, w, h = cv2.boundingRect(ctr)\n",
        "\n",
        "      \n",
        "      # plt.imshow(rect, cmap=\"gray\")\n",
        "      if w*h>1600:\n",
        "        crop_img = th1[y:y+h, x:x+w]\n",
        "        \n",
        "        rect = cv2.rectangle(img, (x, y), (x + w, y + h), (0, 255, 0), 2)\n",
        "        crop_img = cv2.resize(crop_img, (28, 28), interpolation = cv2.INTER_AREA)\n",
        "        k+=1\n",
        "        img_crops.append(crop_img)\n",
        "\n",
        "  return img_crops, rect"
      ]
    },
    {
      "cell_type": "code",
      "execution_count": 185,
      "metadata": {
        "id": "7OX-jvoK_Hu3"
      },
      "outputs": [],
      "source": [
        "img = cv2.imread('/content/drive/MyDrive/MOSAIC_PS1/Lawda2.jpeg')\n",
        "img_crops, rect = segmentCaptcha(img)\n"
      ]
    },
    {
      "cell_type": "code",
      "execution_count": 186,
      "metadata": {
        "id": "hSO1lsbh_H6x",
        "colab": {
          "base_uri": "https://localhost:8080/",
          "height": 177
        },
        "outputId": "dd636e44-ab7e-4820-f2c8-db304ac389ba"
      },
      "outputs": [
        {
          "output_type": "display_data",
          "data": {
            "text/plain": [
              "<Figure size 432x288 with 1 Axes>"
            ],
            "image/png": "[encoded data removed]"
          },
          "metadata": {
            "needs_background": "light"
          }
        }
      ],
      "source": [
        "plt.imshow(rect, cmap = 'gray')\n",
        "plt.show()"
      ]
    },
    {
      "cell_type": "code",
      "execution_count": 187,
      "metadata": {
        "id": "nz_EuyNY_Mym",
        "colab": {
          "base_uri": "https://localhost:8080/",
          "height": 1000
        },
        "outputId": "87471870-7d83-41c7-d90b-8e7ae0a3fbbf"
      },
      "outputs": [
        {
          "output_type": "display_data",
          "data": {
            "text/plain": [
              "<Figure size 432x288 with 1 Axes>"
            ],
            "image/png": "[encoded data removed]"
          },
          "metadata": {
            "needs_background": "light"
          }
        },
        {
          "output_type": "display_data",
          "data": {
            "text/plain": [
              "<Figure size 432x288 with 1 Axes>"
            ],
            "image/png": "[encoded data removed]"
          },
          "metadata": {
            "needs_background": "light"
          }
        },
        {
          "output_type": "display_data",
          "data": {
            "text/plain": [
              "<Figure size 432x288 with 1 Axes>"
            ],
            "image/png": "[encoded data removed]"
          },
          "metadata": {
            "needs_background": "light"
          }
        },
        {
          "output_type": "display_data",
          "data": {
            "text/plain": [
              "<Figure size 432x288 with 1 Axes>"
            ],
            "image/png": "[encoded data removed]"
          },
          "metadata": {
            "needs_background": "light"
          }
        },
        {
          "output_type": "display_data",
          "data": {
            "text/plain": [
              "<Figure size 432x288 with 1 Axes>"
            ],
            "image/png": "[encoded data removed]"
          },
          "metadata": {
            "needs_background": "light"
          }
        },
        {
          "output_type": "display_data",
          "data": {
            "text/plain": [
              "<Figure size 432x288 with 1 Axes>"
            ],
            "image/png": "[encoded data removed]"
          },
          "metadata": {
            "needs_background": "light"
          }
        }
      ],
      "source": [
        "\n",
        "for img in img_crops:\n",
        "  plt.imshow(img, cmap = 'gray')\n",
        "  plt.show()"
      ]
    },
    {
      "cell_type": "code",
      "execution_count": 188,
      "metadata": {
        "id": "l22PGPX4_NbO"
      },
      "outputs": [],
      "source": [
        "img_crops = np.array(img_crops)\n",
        "img_crops = torch.Tensor(img_crops)"
      ]
    },
    {
      "cell_type": "code",
      "execution_count": 189,
      "metadata": {
        "id": "chLbjIqMA9kO"
      },
      "outputs": [],
      "source": [
        "inputs  = img_crops\n",
        "device = torch.device(\"cuda:0\" if torch.cuda.is_available() else \"cpu\") \n",
        "# inputs= inputs.to(device)\n"
      ]
    },
    {
      "cell_type": "code",
      "execution_count": 190,
      "metadata": {
        "id": "ETXSkPdmkZHq"
      },
      "outputs": [],
      "source": [
        "letter_model = CNNModel()"
      ]
    },
    {
      "cell_type": "code",
      "execution_count": 191,
      "metadata": {
        "id": "P212Ftd3BefW",
        "colab": {
          "base_uri": "https://localhost:8080/"
        },
        "outputId": "9e8b9a25-d7c2-415d-b524-d4a82af9307c"
      },
      "outputs": [
        {
          "output_type": "execute_result",
          "data": {
            "text/plain": [
              "<All keys matched successfully>"
            ]
          },
          "metadata": {},
          "execution_count": 191
        }
      ],
      "source": [
        "letter_model.load_state_dict(torch.load('/content/drive/MyDrive/MOSAIC_PS1/letters.h5'))"
      ]
    },
    {
      "cell_type": "code",
      "execution_count": 192,
      "metadata": {
        "id": "gUCI6BTzj87a",
        "colab": {
          "base_uri": "https://localhost:8080/"
        },
        "outputId": "859c6d65-431e-4edf-9681-083c56ab3817"
      },
      "outputs": [
        {
          "output_type": "execute_result",
          "data": {
            "text/plain": [
              "CNNModel(\n",
              "  (cnn1): Conv2d(1, 16, kernel_size=(3, 3), stride=(1, 1))\n",
              "  (relu1): ReLU()\n",
              "  (maxpool1): MaxPool2d(kernel_size=(2, 2), stride=(2, 2), padding=0, dilation=1, ceil_mode=False)\n",
              "  (cnn2): Conv2d(16, 32, kernel_size=(3, 3), stride=(1, 1))\n",
              "  (relu2): ReLU()\n",
              "  (maxpool2): MaxPool2d(kernel_size=2, stride=2, padding=0, dilation=1, ceil_mode=False)\n",
              "  (fc1): Linear(in_features=800, out_features=500, bias=True)\n",
              "  (relu3): ReLU()\n",
              "  (fc2): Linear(in_features=500, out_features=27, bias=True)\n",
              "  (soft): LogSoftmax(dim=1)\n",
              ")"
            ]
          },
          "metadata": {},
          "execution_count": 192
        }
      ],
      "source": [
        "letter_model.eval()"
      ]
    },
    {
      "cell_type": "code",
      "execution_count": 193,
      "metadata": {
        "id": "IjGqubX2uMuU"
      },
      "outputs": [],
      "source": [
        "# print(images[0].shape)\n",
        "# len(test_loader1)"
      ]
    },
    {
      "cell_type": "code",
      "execution_count": 194,
      "metadata": {
        "id": "Q8ldJ2Kilfmb"
      },
      "outputs": [],
      "source": [
        "# inputs1=inputs1.unsqueeze(0)\n",
        "# inputs1=inputs1.unsqueeze(0)\n",
        "# # inputs1 = inputs1.cuda()\n",
        "# # torch.reshape(inputs1,(1,1,28,28))\n",
        "# print(inputs1.shape)"
      ]
    },
    {
      "cell_type": "code",
      "execution_count": 195,
      "metadata": {
        "id": "szSsqV7qjPMa",
        "colab": {
          "base_uri": "https://localhost:8080/"
        },
        "outputId": "35fb843f-90e5-4741-d07b-e8a4990b8884"
      },
      "outputs": [
        {
          "output_type": "stream",
          "name": "stdout",
          "text": [
            "PZSTEM"
          ]
        }
      ],
      "source": [
        "with torch.no_grad():\n",
        "  for inputs1 in inputs:\n",
        "    inputs1=inputs1.unsqueeze(0)\n",
        "    inputs1=inputs1.unsqueeze(0)\n",
        "    outp = letter_model(inputs1)\n",
        "    outp = torch.squeeze(outp)\n",
        "    outp = torch.softmax(outp,dim= 0)\n",
        "    # print(outp)\n",
        "    pr = torch.argmax(outp)\n",
        "    captcha = l[pr]\n",
        "    captcha = captcha.capitalize()\n",
        "    print(captcha, end=\"\")\n",
        "    # outp1= emoji_model(inputs1)\n",
        "    # _, pred1 = torch.max(outp1,1)\n",
        "    # print(classes[pred1.item()])"
      ]
    },
    {
      "cell_type": "code",
      "source": [
        ""
      ],
      "metadata": {
        "id": "9AZwj0hIGK2k"
      },
      "execution_count": 195,
      "outputs": []
    }
  ],
  "metadata": {
    "accelerator": "GPU",
    "colab": {
      "name": "Letters.ipynb",
      "provenance": [],
      "collapsed_sections": []
    },
    "kernelspec": {
      "display_name": "Python 3",
      "name": "python3"
    },
    "language_info": {
      "name": "python"
    },
    "widgets": {
      "application/vnd.jupyter.widget-state+json": {
        "4f0fbe5648d44578b0d10d1127f7e594": {
          "model_module": "@jupyter-widgets/controls",
          "model_name": "HBoxModel",
          "model_module_version": "1.5.0",
          "state": {
            "_dom_classes": [],
            "_model_module": "@jupyter-widgets/controls",
            "_model_module_version": "1.5.0",
            "_model_name": "HBoxModel",
            "_view_count": null,
            "_view_module": "@jupyter-widgets/controls",
            "_view_module_version": "1.5.0",
            "_view_name": "HBoxView",
            "box_style": "",
            "children": [
              "IPY_MODEL_620f90fa9e3845c1ac7acb99eba93ec3",
              "IPY_MODEL_ff53a2a40bfb4695ba778c38924d5bbc",
              "IPY_MODEL_d60d16bc0e7e46d7a3d644bd5e147af2"
            ],
            "layout": "IPY_MODEL_1ba26f30eaed49088e17a1232d8c5fe0"
          }
        },
        "620f90fa9e3845c1ac7acb99eba93ec3": {
          "model_module": "@jupyter-widgets/controls",
          "model_name": "HTMLModel",
          "model_module_version": "1.5.0",
          "state": {
            "_dom_classes": [],
            "_model_module": "@jupyter-widgets/controls",
            "_model_module_version": "1.5.0",
            "_model_name": "HTMLModel",
            "_view_count": null,
            "_view_module": "@jupyter-widgets/controls",
            "_view_module_version": "1.5.0",
            "_view_name": "HTMLView",
            "description": "",
            "description_tooltip": null,
            "layout": "IPY_MODEL_1f68d16194a54f85900d014bf3e694bf",
            "placeholder": "​",
            "style": "IPY_MODEL_e18f4e83c2784f1f8712f5cc0e502b73",
            "value": ""
          }
        },
        "ff53a2a40bfb4695ba778c38924d5bbc": {
          "model_module": "@jupyter-widgets/controls",
          "model_name": "FloatProgressModel",
          "model_module_version": "1.5.0",
          "state": {
            "_dom_classes": [],
            "_model_module": "@jupyter-widgets/controls",
            "_model_module_version": "1.5.0",
            "_model_name": "FloatProgressModel",
            "_view_count": null,
            "_view_module": "@jupyter-widgets/controls",
            "_view_module_version": "1.5.0",
            "_view_name": "ProgressView",
            "bar_style": "success",
            "description": "",
            "description_tooltip": null,
            "layout": "IPY_MODEL_e195ada2314f47d4873a5f4cc23770bd",
            "max": 561753746,
            "min": 0,
            "orientation": "horizontal",
            "style": "IPY_MODEL_2a686746871f46b1a49aac4081438038",
            "value": 561753746
          }
        },
        "d60d16bc0e7e46d7a3d644bd5e147af2": {
          "model_module": "@jupyter-widgets/controls",
          "model_name": "HTMLModel",
          "model_module_version": "1.5.0",
          "state": {
            "_dom_classes": [],
            "_model_module": "@jupyter-widgets/controls",
            "_model_module_version": "1.5.0",
            "_model_name": "HTMLModel",
            "_view_count": null,
            "_view_module": "@jupyter-widgets/controls",
            "_view_module_version": "1.5.0",
            "_view_name": "HTMLView",
            "description": "",
            "description_tooltip": null,
            "layout": "IPY_MODEL_f882504cbd2c454994e968a62cbd157f",
            "placeholder": "​",
            "style": "IPY_MODEL_97b70d5602124196990dbd2c85613ac5",
            "value": " 561754112/? [00:38&lt;00:00, 14579981.37it/s]"
          }
        },
        "1ba26f30eaed49088e17a1232d8c5fe0": {
          "model_module": "@jupyter-widgets/base",
          "model_name": "LayoutModel",
          "model_module_version": "1.2.0",
          "state": {
            "_model_module": "@jupyter-widgets/base",
            "_model_module_version": "1.2.0",
            "_model_name": "LayoutModel",
            "_view_count": null,
            "_view_module": "@jupyter-widgets/base",
            "_view_module_version": "1.2.0",
            "_view_name": "LayoutView",
            "align_content": null,
            "align_items": null,
            "align_self": null,
            "border": null,
            "bottom": null,
            "display": null,
            "flex": null,
            "flex_flow": null,
            "grid_area": null,
            "grid_auto_columns": null,
            "grid_auto_flow": null,
            "grid_auto_rows": null,
            "grid_column": null,
            "grid_gap": null,
            "grid_row": null,
            "grid_template_areas": null,
            "grid_template_columns": null,
            "grid_template_rows": null,
            "height": null,
            "justify_content": null,
            "justify_items": null,
            "left": null,
            "margin": null,
            "max_height": null,
            "max_width": null,
            "min_height": null,
            "min_width": null,
            "object_fit": null,
            "object_position": null,
            "order": null,
            "overflow": null,
            "overflow_x": null,
            "overflow_y": null,
            "padding": null,
            "right": null,
            "top": null,
            "visibility": null,
            "width": null
          }
        },
        "1f68d16194a54f85900d014bf3e694bf": {
          "model_module": "@jupyter-widgets/base",
          "model_name": "LayoutModel",
          "model_module_version": "1.2.0",
          "state": {
            "_model_module": "@jupyter-widgets/base",
            "_model_module_version": "1.2.0",
            "_model_name": "LayoutModel",
            "_view_count": null,
            "_view_module": "@jupyter-widgets/base",
            "_view_module_version": "1.2.0",
            "_view_name": "LayoutView",
            "align_content": null,
            "align_items": null,
            "align_self": null,
            "border": null,
            "bottom": null,
            "display": null,
            "flex": null,
            "flex_flow": null,
            "grid_area": null,
            "grid_auto_columns": null,
            "grid_auto_flow": null,
            "grid_auto_rows": null,
            "grid_column": null,
            "grid_gap": null,
            "grid_row": null,
            "grid_template_areas": null,
            "grid_template_columns": null,
            "grid_template_rows": null,
            "height": null,
            "justify_content": null,
            "justify_items": null,
            "left": null,
            "margin": null,
            "max_height": null,
            "max_width": null,
            "min_height": null,
            "min_width": null,
            "object_fit": null,
            "object_position": null,
            "order": null,
            "overflow": null,
            "overflow_x": null,
            "overflow_y": null,
            "padding": null,
            "right": null,
            "top": null,
            "visibility": null,
            "width": null
          }
        },
        "e18f4e83c2784f1f8712f5cc0e502b73": {
          "model_module": "@jupyter-widgets/controls",
          "model_name": "DescriptionStyleModel",
          "model_module_version": "1.5.0",
          "state": {
            "_model_module": "@jupyter-widgets/controls",
            "_model_module_version": "1.5.0",
            "_model_name": "DescriptionStyleModel",
            "_view_count": null,
            "_view_module": "@jupyter-widgets/base",
            "_view_module_version": "1.2.0",
            "_view_name": "StyleView",
            "description_width": ""
          }
        },
        "e195ada2314f47d4873a5f4cc23770bd": {
          "model_module": "@jupyter-widgets/base",
          "model_name": "LayoutModel",
          "model_module_version": "1.2.0",
          "state": {
            "_model_module": "@jupyter-widgets/base",
            "_model_module_version": "1.2.0",
            "_model_name": "LayoutModel",
            "_view_count": null,
            "_view_module": "@jupyter-widgets/base",
            "_view_module_version": "1.2.0",
            "_view_name": "LayoutView",
            "align_content": null,
            "align_items": null,
            "align_self": null,
            "border": null,
            "bottom": null,
            "display": null,
            "flex": null,
            "flex_flow": null,
            "grid_area": null,
            "grid_auto_columns": null,
            "grid_auto_flow": null,
            "grid_auto_rows": null,
            "grid_column": null,
            "grid_gap": null,
            "grid_row": null,
            "grid_template_areas": null,
            "grid_template_columns": null,
            "grid_template_rows": null,
            "height": null,
            "justify_content": null,
            "justify_items": null,
            "left": null,
            "margin": null,
            "max_height": null,
            "max_width": null,
            "min_height": null,
            "min_width": null,
            "object_fit": null,
            "object_position": null,
            "order": null,
            "overflow": null,
            "overflow_x": null,
            "overflow_y": null,
            "padding": null,
            "right": null,
            "top": null,
            "visibility": null,
            "width": null
          }
        },
        "2a686746871f46b1a49aac4081438038": {
          "model_module": "@jupyter-widgets/controls",
          "model_name": "ProgressStyleModel",
          "model_module_version": "1.5.0",
          "state": {
            "_model_module": "@jupyter-widgets/controls",
            "_model_module_version": "1.5.0",
            "_model_name": "ProgressStyleModel",
            "_view_count": null,
            "_view_module": "@jupyter-widgets/base",
            "_view_module_version": "1.2.0",
            "_view_name": "StyleView",
            "bar_color": null,
            "description_width": ""
          }
        },
        "f882504cbd2c454994e968a62cbd157f": {
          "model_module": "@jupyter-widgets/base",
          "model_name": "LayoutModel",
          "model_module_version": "1.2.0",
          "state": {
            "_model_module": "@jupyter-widgets/base",
            "_model_module_version": "1.2.0",
            "_model_name": "LayoutModel",
            "_view_count": null,
            "_view_module": "@jupyter-widgets/base",
            "_view_module_version": "1.2.0",
            "_view_name": "LayoutView",
            "align_content": null,
            "align_items": null,
            "align_self": null,
            "border": null,
            "bottom": null,
            "display": null,
            "flex": null,
            "flex_flow": null,
            "grid_area": null,
            "grid_auto_columns": null,
            "grid_auto_flow": null,
            "grid_auto_rows": null,
            "grid_column": null,
            "grid_gap": null,
            "grid_row": null,
            "grid_template_areas": null,
            "grid_template_columns": null,
            "grid_template_rows": null,
            "height": null,
            "justify_content": null,
            "justify_items": null,
            "left": null,
            "margin": null,
            "max_height": null,
            "max_width": null,
            "min_height": null,
            "min_width": null,
            "object_fit": null,
            "object_position": null,
            "order": null,
            "overflow": null,
            "overflow_x": null,
            "overflow_y": null,
            "padding": null,
            "right": null,
            "top": null,
            "visibility": null,
            "width": null
          }
        },
        "97b70d5602124196990dbd2c85613ac5": {
          "model_module": "@jupyter-widgets/controls",
          "model_name": "DescriptionStyleModel",
          "model_module_version": "1.5.0",
          "state": {
            "_model_module": "@jupyter-widgets/controls",
            "_model_module_version": "1.5.0",
            "_model_name": "DescriptionStyleModel",
            "_view_count": null,
            "_view_module": "@jupyter-widgets/base",
            "_view_module_version": "1.2.0",
            "_view_name": "StyleView",
            "description_width": ""
          }
        }
      }
    }
  },
  "nbformat": 4,
  "nbformat_minor": 0
}